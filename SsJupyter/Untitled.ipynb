{
 "cells": [
  {
   "cell_type": "code",
   "execution_count": 13,
   "metadata": {},
   "outputs": [
    {
     "name": "stdout",
     "output_type": "stream",
     "text": [
      "Requirement already satisfied: copra in /usr/local/lib/python3.7/site-packages (1.2.9)\n",
      "Requirement already satisfied: autobahn>=18.8.1 in /usr/local/lib/python3.7/site-packages (from copra) (19.11.1)\n",
      "Requirement already satisfied: python-dotenv in /usr/local/lib/python3.7/site-packages (from copra) (0.10.3)\n",
      "Requirement already satisfied: asynctest in /usr/local/lib/python3.7/site-packages (from copra) (0.13.0)\n",
      "Requirement already satisfied: aiohttp>=3.4.4 in /usr/local/lib/python3.7/site-packages (from copra) (3.6.2)\n",
      "Requirement already satisfied: python-dateutil in /usr/local/lib/python3.7/site-packages (from copra) (2.8.0)\n",
      "Requirement already satisfied: six>=1.11.0 in /usr/local/lib/python3.7/site-packages (from autobahn>=18.8.1->copra) (1.13.0)\n",
      "Requirement already satisfied: cryptography>=2.7 in /usr/local/lib/python3.7/site-packages (from autobahn>=18.8.1->copra) (2.8)\n",
      "Requirement already satisfied: txaio>=18.8.1 in /usr/local/lib/python3.7/site-packages (from autobahn>=18.8.1->copra) (18.8.1)\n",
      "Requirement already satisfied: async-timeout<4.0,>=3.0 in /usr/local/lib/python3.7/site-packages (from aiohttp>=3.4.4->copra) (3.0.1)\n",
      "Requirement already satisfied: multidict<5.0,>=4.5 in /usr/local/lib/python3.7/site-packages (from aiohttp>=3.4.4->copra) (4.6.1)\n",
      "Requirement already satisfied: yarl<2.0,>=1.0 in /usr/local/lib/python3.7/site-packages (from aiohttp>=3.4.4->copra) (1.3.0)\n",
      "Requirement already satisfied: chardet<4.0,>=2.0 in /usr/local/lib/python3.7/site-packages (from aiohttp>=3.4.4->copra) (3.0.4)\n",
      "Requirement already satisfied: attrs>=17.3.0 in /usr/local/lib/python3.7/site-packages (from aiohttp>=3.4.4->copra) (19.3.0)\n",
      "Requirement already satisfied: cffi!=1.11.3,>=1.8 in /usr/local/lib/python3.7/site-packages (from cryptography>=2.7->autobahn>=18.8.1->copra) (1.13.2)\n",
      "Requirement already satisfied: idna>=2.0 in /usr/local/lib/python3.7/site-packages (from yarl<2.0,>=1.0->aiohttp>=3.4.4->copra) (2.8)\n",
      "Requirement already satisfied: pycparser in /usr/local/lib/python3.7/site-packages (from cffi!=1.11.3,>=1.8->cryptography>=2.7->autobahn>=18.8.1->copra) (2.19)\n"
     ]
    }
   ],
   "source": [
    "! pip3 install copra"
   ]
  },
  {
   "cell_type": "code",
   "execution_count": 16,
   "metadata": {},
   "outputs": [
    {
     "ename": "ModuleNotFoundError",
     "evalue": "No module named 'copra'",
     "output_type": "error",
     "traceback": [
      "\u001b[0;31m---------------------------------------------------------------------------\u001b[0m",
      "\u001b[0;31mModuleNotFoundError\u001b[0m                       Traceback (most recent call last)",
      "\u001b[0;32m<ipython-input-16-7a525d83c189>\u001b[0m in \u001b[0;36m<module>\u001b[0;34m\u001b[0m\n\u001b[0;32m----> 1\u001b[0;31m \u001b[0;32mimport\u001b[0m \u001b[0mcopra\u001b[0m\u001b[0;34m\u001b[0m\u001b[0;34m\u001b[0m\u001b[0m\n\u001b[0m",
      "\u001b[0;31mModuleNotFoundError\u001b[0m: No module named 'copra'"
     ]
    }
   ],
   "source": [
    "import copra"
   ]
  },
  {
   "cell_type": "code",
   "execution_count": null,
   "metadata": {},
   "outputs": [],
   "source": []
  }
 ],
 "metadata": {
  "kernelspec": {
   "display_name": "Python 3",
   "language": "python",
   "name": "python3"
  },
  "language_info": {
   "codemirror_mode": {
    "name": "ipython",
    "version": 3
   },
   "file_extension": ".py",
   "mimetype": "text/x-python",
   "name": "python",
   "nbconvert_exporter": "python",
   "pygments_lexer": "ipython3",
   "version": "3.7.4"
  }
 },
 "nbformat": 4,
 "nbformat_minor": 2
}
