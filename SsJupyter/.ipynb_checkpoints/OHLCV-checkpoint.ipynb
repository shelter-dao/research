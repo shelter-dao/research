{
 "cells": [
  {
   "cell_type": "markdown",
   "metadata": {},
   "source": [
    "# Coinbase Pro OHLCV Data"
   ]
  },
  {
   "cell_type": "markdown",
   "metadata": {},
   "source": [
    "## Overview\n",
    "\n",
    "A script to get historical OHLCV Data for backtesting from Coinbase Pro.\n",
    "\n",
    "Here's a breakdown of how it works:\n",
    "\n",
    "- prints a list of all available products\n",
    "    - potentially iterates and gets historical data for each product\n",
    "    - for now, just provides reference for manual input\n",
    "- get historical data for specified "
   ]
  },
  {
   "cell_type": "code",
   "execution_count": 81,
   "metadata": {},
   "outputs": [],
   "source": [
    "import sys\n",
    "# !{sys.executable} -m pip install cbpro"
   ]
  },
  {
   "cell_type": "code",
   "execution_count": 167,
   "metadata": {},
   "outputs": [],
   "source": [
    "import cbpro\n",
    "import datetime as dt\n",
    "import numpy as np\n",
    "import pandas as pd\n",
    "import time\n",
    "\n",
    "# initialize coinbase pro client with public functions\n",
    "pc = cbpro.PublicClient()"
   ]
  },
  {
   "cell_type": "markdown",
   "metadata": {},
   "source": [
    "## Products\n",
    "\n",
    "Get full list of `product_id`s to iterate through"
   ]
  },
  {
   "cell_type": "code",
   "execution_count": 168,
   "metadata": {},
   "outputs": [
    {
     "name": "stdout",
     "output_type": "stream",
     "text": [
      "['ALGO-USD', 'BAT-ETH', 'BAT-USDC', 'BCH-BTC', 'BCH-EUR', 'BCH-GBP', 'BCH-USD', 'BTC-EUR', 'BTC-GBP', 'BTC-USD', 'BTC-USDC', 'CVC-USDC', 'DAI-USDC', 'DASH-BTC', 'DASH-USD', 'DNT-USDC', 'EOS-BTC', 'EOS-EUR', 'EOS-USD', 'ETC-BTC', 'ETC-EUR', 'ETC-GBP', 'ETC-USD', 'ETH-BTC', 'ETH-DAI', 'ETH-EUR', 'ETH-GBP', 'ETH-USD', 'ETH-USDC', 'GNT-USDC', 'LINK-ETH', 'LINK-USD', 'LOOM-USDC', 'LTC-BTC', 'LTC-EUR', 'LTC-GBP', 'LTC-USD', 'MANA-USDC', 'REP-BTC', 'REP-USD', 'XLM-BTC', 'XLM-EUR', 'XLM-USD', 'XRP-BTC', 'XRP-EUR', 'XRP-USD', 'XTZ-BTC', 'XTZ-USD', 'ZEC-BTC', 'ZEC-USDC', 'ZRX-BTC', 'ZRX-EUR', 'ZRX-USD']\n"
     ]
    }
   ],
   "source": [
    "products = pc.get_products()\n",
    "product_ids = [x['id'] for x in products]\n",
    "product_ids.sort()\n",
    "\n",
    "print(product_ids)"
   ]
  },
  {
   "cell_type": "markdown",
   "metadata": {},
   "source": [
    "## Iterative API Calls"
   ]
  },
  {
   "cell_type": "code",
   "execution_count": 194,
   "metadata": {},
   "outputs": [
    {
     "ename": "KeyError",
     "evalue": "0",
     "output_type": "error",
     "traceback": [
      "\u001b[0;31m---------------------------------------------------------------------------\u001b[0m",
      "\u001b[0;31mKeyError\u001b[0m                                  Traceback (most recent call last)",
      "\u001b[0;32m<ipython-input-194-e3825df8cc6f>\u001b[0m in \u001b[0;36m<module>\u001b[0;34m\u001b[0m\n\u001b[1;32m      6\u001b[0m \u001b[0;34m\u001b[0m\u001b[0m\n\u001b[1;32m      7\u001b[0m \u001b[0mhist_data\u001b[0m \u001b[0;34m=\u001b[0m \u001b[0mpc\u001b[0m\u001b[0;34m.\u001b[0m\u001b[0mget_product_historic_rates\u001b[0m\u001b[0;34m(\u001b[0m\u001b[0mproduct_id\u001b[0m\u001b[0;34m,\u001b[0m \u001b[0mstart\u001b[0m\u001b[0;34m=\u001b[0m\u001b[0mstart\u001b[0m\u001b[0;34m,\u001b[0m \u001b[0mend\u001b[0m\u001b[0;34m=\u001b[0m\u001b[0mend\u001b[0m\u001b[0;34m,\u001b[0m \u001b[0mgranularity\u001b[0m \u001b[0;34m=\u001b[0m \u001b[0;36m60\u001b[0m\u001b[0;34m)\u001b[0m\u001b[0;34m\u001b[0m\u001b[0;34m\u001b[0m\u001b[0m\n\u001b[0;32m----> 8\u001b[0;31m \u001b[0mprint\u001b[0m\u001b[0;34m(\u001b[0m\u001b[0mdt\u001b[0m\u001b[0;34m.\u001b[0m\u001b[0mdatetime\u001b[0m\u001b[0;34m.\u001b[0m\u001b[0mfromtimestamp\u001b[0m\u001b[0;34m(\u001b[0m\u001b[0mhist_data\u001b[0m\u001b[0;34m[\u001b[0m\u001b[0;36m0\u001b[0m\u001b[0;34m]\u001b[0m\u001b[0;34m[\u001b[0m\u001b[0;36m0\u001b[0m\u001b[0;34m]\u001b[0m\u001b[0;34m)\u001b[0m\u001b[0;34m)\u001b[0m\u001b[0;34m\u001b[0m\u001b[0;34m\u001b[0m\u001b[0m\n\u001b[0m\u001b[1;32m      9\u001b[0m \u001b[0mprint\u001b[0m\u001b[0;34m(\u001b[0m\u001b[0mdt\u001b[0m\u001b[0;34m.\u001b[0m\u001b[0mdatetime\u001b[0m\u001b[0;34m.\u001b[0m\u001b[0mfromtimestamp\u001b[0m\u001b[0;34m(\u001b[0m\u001b[0mhist_data\u001b[0m\u001b[0;34m[\u001b[0m\u001b[0;34m-\u001b[0m\u001b[0;36m1\u001b[0m\u001b[0;34m]\u001b[0m\u001b[0;34m[\u001b[0m\u001b[0;36m0\u001b[0m\u001b[0;34m]\u001b[0m\u001b[0;34m)\u001b[0m\u001b[0;34m)\u001b[0m\u001b[0;34m\u001b[0m\u001b[0;34m\u001b[0m\u001b[0m\n\u001b[1;32m     10\u001b[0m \u001b[0;34m\u001b[0m\u001b[0m\n",
      "\u001b[0;31mKeyError\u001b[0m: 0"
     ]
    }
   ],
   "source": [
    "product_id = 'BTC-USD'\n",
    "\n",
    "# set end to current time and iterate backwards to specified start\n",
    "start = '2018-01-05'\n",
    "end = '2018-01-10'\n",
    "\n",
    "hist_data = pc.get_product_historic_rates(product_id, start=start, end=end, granularity = 86400)\n",
    "print(dt.datetime.fromtimestamp(hist_data[0][0]))\n",
    "print(dt.datetime.fromtimestamp(hist_data[-1][0]))\n",
    "\n",
    "# while end != start:\n",
    "# for x in [1,2,3]:\n",
    "#     print(end)\n",
    "#     new_data = pc.get_product_historic_rates(product_id, end=end, granularity = 86400)\n",
    "#     hist_data.extend(new_data)\n",
    "#     end = dt.datetime.fromtimestamp(new_data[-1][0])\n",
    "#     print(end)\n",
    "#     print('')\n",
    "#     time.sleep(5)\n",
    "    \n",
    "# print(start, end)\n",
    "# print(sys.getsizeof(historical_data))\n",
    "# print(len(new_data))\n",
    "# print(len(hist_data))"
   ]
  },
  {
   "cell_type": "code",
   "execution_count": 170,
   "metadata": {},
   "outputs": [],
   "source": [
    "# 1567209600 1573667520 1573603200\n",
    "# [1547769600, 3580.16, 3643.69, 3640.64, 3607.85, 5977.23699338]]"
   ]
  },
  {
   "cell_type": "code",
   "execution_count": 175,
   "metadata": {},
   "outputs": [
    {
     "name": "stdout",
     "output_type": "stream",
     "text": [
      "5\n",
      "11\n",
      "11\n"
     ]
    }
   ],
   "source": [
    "list1 = [[1, 2] , [3, 4], [5, 6]]\n",
    "list2 = [[7, 8] , [9, 10], [11, 12]]\n",
    "\n",
    "for x in [1,2,3]:\n",
    "    print(list1[-1][0])\n",
    "    list1.extend(list2)\n",
    "        "
   ]
  },
  {
   "cell_type": "code",
   "execution_count": null,
   "metadata": {},
   "outputs": [],
   "source": []
  }
 ],
 "metadata": {
  "kernelspec": {
   "display_name": "Python 3",
   "language": "python",
   "name": "python3"
  },
  "language_info": {
   "codemirror_mode": {
    "name": "ipython",
    "version": 3
   },
   "file_extension": ".py",
   "mimetype": "text/x-python",
   "name": "python",
   "nbconvert_exporter": "python",
   "pygments_lexer": "ipython3",
   "version": "3.7.4"
  }
 },
 "nbformat": 4,
 "nbformat_minor": 2
}
