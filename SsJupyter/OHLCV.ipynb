{
 "cells": [
  {
   "cell_type": "markdown",
   "metadata": {},
   "source": [
    "# Coinbase Pro OHLCV Data"
   ]
  },
  {
   "cell_type": "markdown",
   "metadata": {},
   "source": [
    "## Overview\n",
    "\n",
    "A script to get historical OHLCV Data for backtesting from Coinbase Pro.\n",
    "\n",
    "Here's a breakdown of how it works:\n",
    "\n",
    "- prints a list of all available products\n",
    "    - potentially iterates and gets historical data for each product\n",
    "    - for now, just provides reference for manual input\n",
    "- get historical data for specified "
   ]
  },
  {
   "cell_type": "code",
   "execution_count": 81,
   "metadata": {},
   "outputs": [],
   "source": [
    "import sys\n",
    "# !{sys.executable} -m pip install cbpro"
   ]
  },
  {
   "cell_type": "code",
   "execution_count": 9,
   "metadata": {},
   "outputs": [],
   "source": [
    "import cbpro as cbp\n",
    "import datetime as dt\n",
    "import numpy as np\n",
    "import pandas as pd\n",
    "import time\n",
    "\n",
    "# initialize coinbase pro client with public functions\n",
    "pc = cbpro.PublicClient()"
   ]
  },
  {
   "cell_type": "code",
   "execution_count": 26,
   "metadata": {},
   "outputs": [],
   "source": [
    "start = dt.datetime(2019,1,1)\n",
    "end = dt.datetime.now()\n",
    "granularity = 86400\n",
    "temp_start = end - dt.timedelta(seconds=300*granularity)\n",
    "\n",
    "product_id = 'BTC-USD'"
   ]
  },
  {
   "cell_type": "markdown",
   "metadata": {},
   "source": [
    "## Products\n",
    "\n",
    "Get full list of `product_id`s to iterate through"
   ]
  },
  {
   "cell_type": "code",
   "execution_count": 37,
   "metadata": {},
   "outputs": [],
   "source": [
    "products = pc.get_products()\n",
    "product_ids = [x['id'] for x in products]\n",
    "product_ids.sort()"
   ]
  },
  {
   "cell_type": "markdown",
   "metadata": {},
   "source": [
    "## Iterative API Calls"
   ]
  },
  {
   "cell_type": "code",
   "execution_count": 36,
   "metadata": {},
   "outputs": [],
   "source": [
    "hist_data = []\n",
    "\n",
    "while end > start:\n",
    "    pc = cbp.PublicClient()\n",
    "    # don't overshoot start time\n",
    "    if temp_start < start:\n",
    "        temp_start = start\n",
    "    # make a request to the API for historical data \n",
    "    new_data = pc.get_product_historic_rates(product_id, start=temp_start, end=end, granularity=granularity)\n",
    "    # add most recent data to hist_data\n",
    "    hist_data.extend(new_data)\n",
    "    # update end and temp_start for next iteration\n",
    "    end = dt.datetime.fromtimestamp(new_data[-1][0])\n",
    "    temp_start = end - dt.timedelta(seconds=300*granularity)\n",
    "    \n",
    "    pc.session.close()\n",
    "    time.sleep(1)"
   ]
  }
 ],
 "metadata": {
  "kernelspec": {
   "display_name": "Python 3",
   "language": "python",
   "name": "python3"
  },
  "language_info": {
   "codemirror_mode": {
    "name": "ipython",
    "version": 3
   },
   "file_extension": ".py",
   "mimetype": "text/x-python",
   "name": "python",
   "nbconvert_exporter": "python",
   "pygments_lexer": "ipython3",
   "version": "3.7.4"
  }
 },
 "nbformat": 4,
 "nbformat_minor": 2
}
