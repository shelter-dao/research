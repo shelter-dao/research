{
 "cells": [
  {
   "cell_type": "markdown",
   "metadata": {},
   "source": [
    "# Potential Strategies for Dec.1 launch \n",
    "\n",
    "Strategies hypothesized and tested. This log is maintained more as a notebook of what was learned than it is a guide to potential good strategies. The goal is to see growth of strategies throughout the course of this notebook "
   ]
  },
  {
   "cell_type": "markdown",
   "metadata": {},
   "source": [
    "## The Long-Short Strategy\n",
    "\n",
    "A market agnostic strategy in which we have an equal value invested in long positions on the cheapest assets and short positions on the most expensive assets. The assets are ranked by a ranking algo and the returns experienced from this strategy are directly correlated with the quality of the ranking algo and unimpacted by larger market movement \n",
    "\n",
    "(**Note:** When we determine the universe of strategies, we should consider how much of our portfolio we want to be market neutral as there is much price movement in the current market on which we could capitalize.) \n",
    "\n",
    "**?:** Deploying a long-short strategy isn't based on some \"trigger\" as we may think of in other market dependent algo's. It isn't deploying a buy order because some indicator has been tripped. We define a basked of assets which are over valued and undervalued based on some indicators of the asset itself, not the market. Once the baskets are defined we enter the long and short positions respectively. Need to define the exit criteria "
   ]
  },
  {
   "cell_type": "code",
   "execution_count": null,
   "metadata": {},
   "outputs": [],
   "source": []
  }
 ],
 "metadata": {
  "kernelspec": {
   "display_name": "Python 3",
   "language": "python",
   "name": "python3"
  },
  "language_info": {
   "codemirror_mode": {
    "name": "ipython",
    "version": 3
   },
   "file_extension": ".py",
   "mimetype": "text/x-python",
   "name": "python",
   "nbconvert_exporter": "python",
   "pygments_lexer": "ipython3",
   "version": "3.7.2"
  }
 },
 "nbformat": 4,
 "nbformat_minor": 2
}
