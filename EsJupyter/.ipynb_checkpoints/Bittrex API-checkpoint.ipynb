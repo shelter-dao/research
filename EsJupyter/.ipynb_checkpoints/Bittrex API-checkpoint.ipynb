{
 "cells": [
  {
   "cell_type": "markdown",
   "metadata": {},
   "source": [
    "# Bittrex API Function Library"
   ]
  },
  {
   "cell_type": "markdown",
   "metadata": {},
   "source": [
    "## Connect to Bittrex API\n",
    "\n",
    "First we need to import the necessary libraries "
   ]
  },
  {
   "cell_type": "code",
   "execution_count": 113,
   "metadata": {},
   "outputs": [],
   "source": [
    "import requests       # for making http requests to bittrex \n",
    "import json           # for parsing what bittrex sends back to us \n",
    "import pandas as pd   # for storing and manipulating the data we get back \n",
    "import numpy as np    # for managing and transforming data \n",
    "import time           # for nonces and time management\n",
    "import hmac           # for hashing api message as signatures\n",
    "import hashlib        # library of hashing options \n",
    "import matplotlib.pyplot as plt              # for displaying data\n",
    "import datetime as dt                        # for handling time \n",
    "from urllib.parse import urljoin, urlencode  # for structuring and signing api calls \n"
   ]
  },
  {
   "cell_type": "markdown",
   "metadata": {},
   "source": [
    "### Define the API base url "
   ]
  },
  {
   "cell_type": "code",
   "execution_count": 40,
   "metadata": {},
   "outputs": [],
   "source": [
    "# Bittrex API url \n",
    "BASE_URL = 'https://api.bittrex.com'"
   ]
  },
  {
   "cell_type": "markdown",
   "metadata": {},
   "source": [
    "### Define BittrexException if call fails "
   ]
  },
  {
   "cell_type": "code",
   "execution_count": 41,
   "metadata": {},
   "outputs": [],
   "source": [
    "class BittrexException(Exception): \n",
    "    def __init__(self, status_code, data): \n",
    "        self.status_code = status_code\n",
    "        if data:                            # if error has data, populate to display \n",
    "            self.code = data['code']\n",
    "            self.msg = data['msg']\n",
    "        else: \n",
    "            self.code = None\n",
    "            self.msg = None\n",
    "        message = f\"{status_code} [{self.code}] {self.msg}\""
   ]
  },
  {
   "cell_type": "markdown",
   "metadata": {},
   "source": [
    "### Retrieve open and available trading markets at Bittrex\n"
   ]
  },
  {
   "cell_type": "code",
   "execution_count": 51,
   "metadata": {},
   "outputs": [
    {
     "name": "stdout",
     "output_type": "stream",
     "text": [
      "    MarketCurrency BaseCurrency MarketCurrencyLong BaseCurrencyLong  \\\n",
      "0              LTC          BTC           Litecoin          Bitcoin   \n",
      "1             DOGE          BTC           Dogecoin          Bitcoin   \n",
      "2              VTC          BTC           Vertcoin          Bitcoin   \n",
      "3              PPC          BTC           Peercoin          Bitcoin   \n",
      "4              FTC          BTC        Feathercoin          Bitcoin   \n",
      "..             ...          ...                ...              ...   \n",
      "332           HBAR         USDT   Hedera Hashgraph           Tether   \n",
      "333            PLG          BTC        Pledge Coin          Bitcoin   \n",
      "334            VET          BTC            VeChain          Bitcoin   \n",
      "335            VET         USDT            VeChain           Tether   \n",
      "336            SIX          BTC         SixNetwork          Bitcoin   \n",
      "\n",
      "     MinTradeSize MarketName  IsActive  IsRestricted                  Created  \\\n",
      "0        0.032972    BTC-LTC      True         False      2014-02-13T00:00:00   \n",
      "1     1000.000000   BTC-DOGE      True         False      2014-02-13T00:00:00   \n",
      "2        8.830802    BTC-VTC      True         False      2014-02-13T00:00:00   \n",
      "3        6.025548    BTC-PPC      True         False      2014-02-13T00:00:00   \n",
      "4      213.675214    BTC-FTC      True         False      2014-02-13T00:00:00   \n",
      "..            ...        ...       ...           ...                      ...   \n",
      "332     10.000000  USDT-HBAR      True         False  2019-09-17T01:51:42.387   \n",
      "333    555.000000    BTC-PLG      True          True   2019-10-08T23:06:04.78   \n",
      "334    820.000000    BTC-VET      True          True   2019-10-09T17:00:14.48   \n",
      "335    820.000000   USDT-VET      True          True    2019-10-09T17:01:09.3   \n",
      "336    124.000000    BTC-SIX      True          True  2019-10-10T16:55:47.477   \n",
      "\n",
      "    Notice IsSponsored                                            LogoUrl  \n",
      "0     None        None  https://bittrexblobstorage.blob.core.windows.n...  \n",
      "1     None        None  https://bittrexblobstorage.blob.core.windows.n...  \n",
      "2     None        None  https://bittrexblobstorage.blob.core.windows.n...  \n",
      "3     None        None  https://bittrexblobstorage.blob.core.windows.n...  \n",
      "4     None        None  https://bittrexblobstorage.blob.core.windows.n...  \n",
      "..     ...         ...                                                ...  \n",
      "332               None  https://bittrexblobstorage.blob.core.windows.n...  \n",
      "333               None  https://bittrexblobstorage.blob.core.windows.n...  \n",
      "334   None        None  https://bittrexblobstorage.blob.core.windows.n...  \n",
      "335   None        None  https://bittrexblobstorage.blob.core.windows.n...  \n",
      "336   None        None  https://bittrexblobstorage.blob.core.windows.n...  \n",
      "\n",
      "[337 rows x 12 columns]\n"
     ]
    }
   ],
   "source": [
    "# GET /public/getmrkets\n",
    "def get_markets():\n",
    "    PATH = '/api/v1.1/public/getmarkets'     # target of API Call \n",
    "    params = None\n",
    "\n",
    "    url = urljoin(BASE_URL, PATH)            # creates path for api call\n",
    "    r = requests.get(url, params = params)   # makes api call \n",
    "    if r.status_code == 200:                 # if successful, defines data\n",
    "        data = r.json()\n",
    "        df = pd.DataFrame(data['result'])\n",
    "        print(df)\n",
    "    else:                                    # else, raises exception\n",
    "        raise BittrexException(status_code=r.status_code, data=r.json())\n",
    "                               \n",
    "# run function to see output  \n",
    "get_markets()"
   ]
  },
  {
   "cell_type": "markdown",
   "metadata": {},
   "source": [
    "### Retreive supported currencies at Bittrex"
   ]
  },
  {
   "cell_type": "code",
   "execution_count": 52,
   "metadata": {},
   "outputs": [
    {
     "name": "stdout",
     "output_type": "stream",
     "text": [
      "    Currency      CurrencyLong  MinConfirmation   TxFee  IsActive  \\\n",
      "0        BTC           Bitcoin                2  0.0005      True   \n",
      "1        LTC          Litecoin                6  0.0100      True   \n",
      "2       DOGE          Dogecoin                6  2.0000      True   \n",
      "3        VTC          Vertcoin              600  0.0200      True   \n",
      "4        PPC          Peercoin               12  0.0200      True   \n",
      "..       ...               ...              ...     ...       ...   \n",
      "272     MRPH  Morpheus.Network               36  1.0000      True   \n",
      "273     HBAR  Hedera Hashgraph                1  0.1000      True   \n",
      "274      VET           VeChain               20  0.0100      True   \n",
      "275      PLG       Pledge Coin               36  1.0000      True   \n",
      "276      SIX       Six Network                2  0.1000      True   \n",
      "\n",
      "     IsRestricted      CoinType  \\\n",
      "0           False       BITCOIN   \n",
      "1           False     BITCOIN16   \n",
      "2           False       BITCOIN   \n",
      "3           False     BITCOIN16   \n",
      "4           False     BITCOIN16   \n",
      "..            ...           ...   \n",
      "272          True  ETH_CONTRACT   \n",
      "273         False     HASHGRAPH   \n",
      "274          True       VECHAIN   \n",
      "275          True  ETH_CONTRACT   \n",
      "276          True       STELLAR   \n",
      "\n",
      "                                           BaseAddress Notice  \n",
      "0                   1N52wHoVR79PMDishab2XmRHsbekCdGquK   None  \n",
      "1                   LhyLNfBkoKshT7R8Pce6vkB9T2cP2o84hx   None  \n",
      "2                   D9GqmkGCpgtnXP7xMD78v9xfqeDkqBZBMT   None  \n",
      "3                   VfukW89WKT9h3YjHZdSAAuGNVGELY31wyj   None  \n",
      "4                                                 None   None  \n",
      "..                                                 ...    ...  \n",
      "272         0xfbb1b73c4f0bda4f67dca266ce6ef42f520fbb98         \n",
      "273                                          0.0.17055   None  \n",
      "274         0xB73554767983Dc5aAEAC2b948E407f57e8E9Dea1         \n",
      "275         0xfbb1b73c4f0bda4f67dca266ce6ef42f520fbb98         \n",
      "276  GB6YPGW5JFMMP2QB2USQ33EUWTXVL4ZT5ITUNCY3YKVWOJ...   None  \n",
      "\n",
      "[277 rows x 9 columns]\n"
     ]
    }
   ],
   "source": [
    "# GET /public/getcurrencies\n",
    "def get_currencies(): \n",
    "    PATH = '/api/v1.1/public/getcurrencies'           \n",
    "    params = None\n",
    "    url = urljoin(BASE_URL, PATH)                   # define total path\n",
    "    r = requests.get(url, params = params)          # add parameters and request\n",
    "    if r.status_code == 200: \n",
    "        data = r.json()                             # parse data to json format\n",
    "        df = pd.DataFrame(data['result'])           # convert json to data frame (only result)\n",
    "        print(df) \n",
    "    else: \n",
    "        raise BittrexException(status_code= r.status_code(), data = r.json())\n",
    "        \n",
    "# run function to see output \n",
    "get_currencies() "
   ]
  },
  {
   "cell_type": "markdown",
   "metadata": {},
   "source": [
    "### Retrieve tick value for a market\n",
    "Has parameters: \n",
    "* market: string (required)\n"
   ]
  },
  {
   "cell_type": "code",
   "execution_count": 96,
   "metadata": {},
   "outputs": [
    {
     "name": "stdout",
     "output_type": "stream",
     "text": [
      "      success message    result\n",
      "Ask      True          0.006273\n",
      "Bid      True          0.006266\n",
      "Last     True          0.006262\n",
      "      success message    result\n",
      "Ask      True          0.019707\n",
      "Bid      True          0.019698\n",
      "Last     True          0.019710\n"
     ]
    }
   ],
   "source": [
    "# GET /public/getticker\n",
    "def get_ticker(market):\n",
    "    PATH = '/api/v1.1/public/getticker'\n",
    "    params = {                                  # define parameters as dictionary \n",
    "        'market': market\n",
    "    }\n",
    "    url = urljoin(BASE_URL, PATH)\n",
    "    r = requests.get(url, params = params)      # add parameters and request\n",
    "    if r.status_code == 200: \n",
    "        data = r.json()\n",
    "        df = pd.DataFrame(data)\n",
    "        print(df)\n",
    "    else: \n",
    "        raise BittrexException(status_code = r.status_code(), data = r.json())\n",
    "        \n",
    "# run function to see output\n",
    "get_ticker('BTC-LTC')\n",
    "get_ticker('BTC-ETH')\n"
   ]
  },
  {
   "cell_type": "markdown",
   "metadata": {},
   "source": [
    "### Retrieve 24 hr summary of all markets"
   ]
  },
  {
   "cell_type": "code",
   "execution_count": 97,
   "metadata": {},
   "outputs": [
    {
     "name": "stdout",
     "output_type": "stream",
     "text": [
      "    MarketName          High           Low        Volume          Last  \\\n",
      "0      BTC-XMY  1.100000e-07  9.000000e-08  1.167461e+06  1.000000e-07   \n",
      "1      ETH-XLM  3.879500e-04  3.764400e-04  6.667568e+05  3.879500e-04   \n",
      "2     USDT-XRP  2.973405e-01  2.913741e-01  2.456340e+05  2.957350e-01   \n",
      "3      BTC-XST  1.019000e-05  9.080000e-06  1.009999e+05  9.140000e-06   \n",
      "4      BTC-LBC  8.800000e-07  8.400000e-07  3.805085e+05  8.400000e-07   \n",
      "..         ...           ...           ...           ...           ...   \n",
      "332    BTC-GNO  1.710000e-03  1.700000e-03  3.677000e+00  1.710000e-03   \n",
      "333    ETH-REP  5.600973e-02  4.992908e-02  5.212164e+02  5.408902e-02   \n",
      "334    ETH-XRP  1.622560e-03  1.595910e-03  4.422417e+04  1.616490e-03   \n",
      "335  BTC-BLOCK  1.250000e-04  1.031500e-04  5.032494e+03  1.250000e-04   \n",
      "336    BTC-EDG  1.250000e-06  1.230000e-06  5.967923e+03  1.230000e-06   \n",
      "\n",
      "       BaseVolume                TimeStamp           Bid           Ask  \\\n",
      "0        0.120903  2019-11-03T00:56:07.677  1.000000e-07  1.100000e-07   \n",
      "1      255.688455  2019-11-03T00:56:07.677  3.850000e-04  3.870000e-04   \n",
      "2    72138.994281  2019-11-03T00:56:07.677  2.944470e-01  2.955170e-01   \n",
      "3        0.949272  2019-11-03T00:56:07.677  9.100000e-06  1.017000e-05   \n",
      "4        0.324532  2019-11-03T00:56:07.677  8.400000e-07  8.600000e-07   \n",
      "..            ...                      ...           ...           ...   \n",
      "332      0.006276  2019-11-03T00:56:07.677  1.700000e-03  1.735140e-03   \n",
      "333     27.547251  2019-11-03T00:56:07.677  5.371776e-02  5.414311e-02   \n",
      "334     71.077027  2019-11-03T00:56:07.677  1.610000e-03  1.610950e-03   \n",
      "335      0.562281  2019-11-03T00:56:07.677  1.191900e-04  1.250700e-04   \n",
      "336      0.007350  2019-11-03T00:56:07.677  1.230000e-06  1.300000e-06   \n",
      "\n",
      "     OpenBuyOrders  OpenSellOrders       PrevDay                  Created  \n",
      "0               81            1211  9.000000e-08      2014-03-15T08:00:00  \n",
      "1              136             517  3.818300e-04   2017-07-21T01:08:49.38  \n",
      "2              313            1308  2.926500e-01  2017-07-14T17:10:10.737  \n",
      "3               96             586  1.019000e-05   2014-07-09T20:33:00.59  \n",
      "4               74            2475  8.600000e-07   2016-07-05T21:50:07.81  \n",
      "..             ...             ...           ...                      ...  \n",
      "332             43             604  1.700000e-03      2017-04-28T02:43:12  \n",
      "333             90             123  4.992908e-02   2017-04-20T06:43:49.19  \n",
      "334            269             710  1.598470e-03  2017-06-25T03:07:09.677  \n",
      "335            146             559  1.063100e-04   2014-10-29T06:45:03.97  \n",
      "336             81            1614  1.250000e-06  2017-04-18T00:56:59.243  \n",
      "\n",
      "[337 rows x 13 columns]\n"
     ]
    }
   ],
   "source": [
    "# GET /public/getmarketsummaries\n",
    "def get_marketsummaries():\n",
    "    PATH = '/api/v1.1/public/getmarketsummaries'        # code structure similar to above, just change path \n",
    "    params = None\n",
    "    \n",
    "    url = urljoin(BASE_URL, PATH)\n",
    "    r = requests.get(url, params = params)\n",
    "    if r.status_code == 200: \n",
    "        data = r.json()\n",
    "        df = pd.DataFrame(data['result'])\n",
    "        print(df)\n",
    "    else: \n",
    "        raise BittrexException(status_code = r.status_code(), data = r.json())\n",
    "        \n",
    "# run function to see output\n",
    "get_marketsummaries()\n"
   ]
  },
  {
   "cell_type": "markdown",
   "metadata": {},
   "source": [
    "### Retrieve market summary of specific market \n",
    "Has parameters: \n",
    "* market: string (required)"
   ]
  },
  {
   "cell_type": "code",
   "execution_count": 94,
   "metadata": {},
   "outputs": [
    {
     "name": "stdout",
     "output_type": "stream",
     "text": [
      "  MarketName      High       Low       Volume      Last  BaseVolume  \\\n",
      "0    BTC-LTC  0.006335  0.006238  1706.243198  0.006262   10.716832   \n",
      "\n",
      "                TimeStamp       Bid       Ask  OpenBuyOrders  OpenSellOrders  \\\n",
      "0  2019-11-03T00:54:57.69  0.006266  0.006273            512            3789   \n",
      "\n",
      "    PrevDay              Created  \n",
      "0  0.006304  2014-02-13T00:00:00  \n"
     ]
    }
   ],
   "source": [
    "# GET /public/getmarketsummary\n",
    "def get_marketsummaries(market):\n",
    "    PATH = '/api/v1.1/public/getmarketsummary'\n",
    "    params = {\n",
    "        'market': market\n",
    "    }\n",
    "    url = urljoin(BASE_URL, PATH)\n",
    "    r = requests.get(url, params = params)\n",
    "    if r.status_code == 200: \n",
    "        data = r.json()\n",
    "        df = pd.DataFrame(data['result'])\n",
    "        print(df)\n",
    "    else: \n",
    "        raise BittrexException(status_code = r.status_code(), data = r.json())\n",
    "        \n",
    "# run function to see output\n",
    "get_marketsummaries('BTC-LTC')"
   ]
  },
  {
   "cell_type": "markdown",
   "metadata": {},
   "source": [
    "### Retrieve order book for a given market \n",
    "Has Parameters: \n",
    "* market: string: buy || sell || both (required) \n",
    "* type: string (required) "
   ]
  },
  {
   "cell_type": "code",
   "execution_count": 101,
   "metadata": {},
   "outputs": [
    {
     "name": "stdout",
     "output_type": "stream",
     "text": [
      "                                              buy  \\\n",
      "0     {'Quantity': 2.74346931, 'Rate': 0.0062655}   \n",
      "1         {'Quantity': 10.3509, 'Rate': 0.006255}   \n",
      "2   {'Quantity': 16.07992029, 'Rate': 0.00625354}   \n",
      "3          {'Quantity': 0.56, 'Rate': 0.00625248}   \n",
      "4    {'Quantity': 11.94252736, 'Rate': 0.0062519}   \n",
      "..                                            ...   \n",
      "95    {'Quantity': 1.20607571, 'Rate': 0.0060005}   \n",
      "96       {'Quantity': 17.92341505, 'Rate': 0.006}   \n",
      "97   {'Quantity': 6.65740081, 'Rate': 0.00599333}   \n",
      "98           {'Quantity': 0.084, 'Rate': 0.00599}   \n",
      "99      {'Quantity': 0.47128, 'Rate': 0.00598839}   \n",
      "\n",
      "                                             sell  \n",
      "0   {'Quantity': 72.06035236, 'Rate': 0.00626686}  \n",
      "1   {'Quantity': 31.94751231, 'Rate': 0.00626687}  \n",
      "2   {'Quantity': 47.92066026, 'Rate': 0.00626688}  \n",
      "3    {'Quantity': 47.9207643, 'Rate': 0.00626689}  \n",
      "4    {'Quantity': 10.02992029, 'Rate': 0.0062669}  \n",
      "..                                            ...  \n",
      "95   {'Quantity': 3.72442712, 'Rate': 0.00653581}  \n",
      "96      {'Quantity': 0.42413134, 'Rate': 0.00654}  \n",
      "97          {'Quantity': 1.0, 'Rate': 0.00654093}  \n",
      "98      {'Quantity': 7.14455383, 'Rate': 0.00655}  \n",
      "99   {'Quantity': 0.25961044, 'Rate': 0.00655001}  \n",
      "\n",
      "[100 rows x 2 columns]\n"
     ]
    }
   ],
   "source": [
    "# GET /public/getorderbook \n",
    "def get_orderbook(market, book): \n",
    "    PATH = '/api/v1.1/public/getorderbook'\n",
    "    params = {                                         # multiple params, add to dictionary\n",
    "        'market': market, \n",
    "        'type': book\n",
    "    }\n",
    "    url = urljoin(BASE_URL, PATH)\n",
    "    r = requests.get(url, params = params)\n",
    "    if r.status_code == 200: \n",
    "        data = r.json()\n",
    "        df = pd.DataFrame(data['result'])\n",
    "        print(df)\n",
    "    else: \n",
    "        raise BittrexException(status_code = r.status_code(), data = r.json())\n",
    "        \n",
    "# run function to see output\n",
    "get_orderbook('BTC-LTC', 'both')\n",
    "\n",
    "    "
   ]
  },
  {
   "cell_type": "markdown",
   "metadata": {},
   "source": [
    "### Retrieve Market History \n",
    "Has parameters: \n",
    "* market: string (required) "
   ]
  },
  {
   "cell_type": "code",
   "execution_count": 112,
   "metadata": {},
   "outputs": [
    {
     "name": "stdout",
     "output_type": "stream",
     "text": [
      "          Id               TimeStamp  Quantity     Price     Total FillType  \\\n",
      "0   44593466  2019-11-03T02:33:25.99  0.586576  0.019746  0.011583     FILL   \n",
      "1   44593461   2019-11-03T02:33:07.4  0.463017  0.019746  0.009143     FILL   \n",
      "2   44593292  2019-11-03T02:28:12.68  5.267000  0.019751  0.104028     FILL   \n",
      "3   44593226  2019-11-03T02:26:21.26  5.232100  0.019746  0.103313     FILL   \n",
      "4   44593088  2019-11-03T02:23:02.52  0.080963  0.019740  0.001598     FILL   \n",
      "..       ...                     ...       ...       ...       ...      ...   \n",
      "95  44585276   2019-11-02T21:52:28.3  0.030440  0.019679  0.000599     FILL   \n",
      "96  44585271  2019-11-02T21:52:04.19  0.169560  0.019679  0.003337     FILL   \n",
      "97  44585099  2019-11-02T21:44:03.94  0.051934  0.019672  0.001022     FILL   \n",
      "98  44585077  2019-11-02T21:42:47.67  0.125135  0.019663  0.002460     FILL   \n",
      "99  44584980  2019-11-02T21:38:43.16  0.283163  0.019659  0.005567     FILL   \n",
      "\n",
      "   OrderType                                  Uuid  \n",
      "0       SELL  9a097cda-d98f-43f9-9074-d39978fa24d5  \n",
      "1        BUY  db5fcbf4-6ee8-45e0-afde-ba5df9754d8a  \n",
      "2        BUY  cd177fe5-5060-4c23-b2b6-3031ea71cd1c  \n",
      "3        BUY  63e4b957-8b9c-46fa-9319-0ecd69218664  \n",
      "4        BUY  a046d2d7-bc6d-45bd-82bb-b9f5ddec428c  \n",
      "..       ...                                   ...  \n",
      "95       BUY  a4c00fcf-03c8-4713-9b8f-795d5baca5ae  \n",
      "96       BUY  5a9ce013-690c-4aa5-9333-3dce1dd8f25a  \n",
      "97       BUY  5ed0e058-9c93-4bf9-be90-86f74e5fa174  \n",
      "98      SELL  af59fe6c-4cd5-425e-aff3-b79b2bcae1a9  \n",
      "99       BUY  f5a53d32-accf-4645-81da-c9a788ce5cab  \n",
      "\n",
      "[100 rows x 8 columns]\n",
      "2019-11-02 22:39:52.207903\n"
     ]
    }
   ],
   "source": [
    "# GET /public/getmarkethistory\n",
    "def get_orderbook(market): \n",
    "    PATH = '/api/v1.1/public/getmarkethistory'\n",
    "    params = {\n",
    "        'market': market \n",
    "    }\n",
    "    url = urljoin(BASE_URL, PATH)\n",
    "    r = requests.get(url, params = params)\n",
    "    if r.status_code == 200: \n",
    "        data = r.json()\n",
    "        df = pd.DataFrame(data['result'])\n",
    "        print(df)\n",
    "    else: \n",
    "        raise BittrexException(status_code = r.status_code(), data = r.json())\n",
    "        \n",
    "# run function to see output\n",
    "get_orderbook('BTC-ETH')\n",
    "\n",
    "    "
   ]
  },
  {
   "cell_type": "markdown",
   "metadata": {},
   "source": [
    "### Test API Signature Process"
   ]
  },
  {
   "cell_type": "code",
   "execution_count": 175,
   "metadata": {},
   "outputs": [
    {
     "name": "stdout",
     "output_type": "stream",
     "text": [
      "success\n"
     ]
    }
   ],
   "source": [
    "# Testing the API Signature Setup with path, api, and secret from Bittrex docs\n",
    "\n",
    "PATH = '/api/v1.1/path/call'\n",
    "params = {\n",
    "    'param': 'value',\n",
    "    'apikey': '0123456789'\n",
    "}\n",
    "\n",
    "secret = 'ABCDEFGHIJ'\n",
    "message = urljoin(BASE_URL, PATH)\n",
    "message = message + '?' + urlencode(params) + '&nonce=1542020339856'\n",
    "signature = hmac.new(secret.encode('ascii'), message.encode('ascii'), hashlib.sha512).hexdigest()\n",
    "expectedSig = \"FC70DD6467C916FBAA14EB89942644F9CF3F4CBF179923EE677413DC2E1CF2D8C5AA60C85A0A0BB3174960B8AA4FCFB0BC20CDE19BF21D567C671811C52CE631\"\n",
    "\n",
    "if signature.lower() == expectedSig.lower():     # case insensitive comparison\n",
    "    print('success')\n",
    "else: \n",
    "    print('failed')\n",
    "    "
   ]
  },
  {
   "cell_type": "markdown",
   "metadata": {},
   "source": [
    "### API Signature function \n",
    "Module used to create signature"
   ]
  },
  {
   "cell_type": "code",
   "execution_count": 179,
   "metadata": {},
   "outputs": [],
   "source": [
    "# params: url, params, secret\n",
    "def signAPI(url, params, secret):\n",
    "    message = url + '?' + urlencode(params)      # adds parameters per message sig requirements\n",
    "    signature = hmac.new(secret.encode('ascii'), message.encode('ascii'), hashlib.sha512).hexdigest()\n",
    "    return(signature)\n"
   ]
  },
  {
   "cell_type": "markdown",
   "metadata": {},
   "source": [
    "### Place a buy order in a specific market \n",
    "Requires an API Key which has enabled trading \n",
    "\n",
    "Has parameters\n",
    "* market: string (requred)\n",
    "* quantity: decimal (required) \n",
    "* rate: decimal (requried) \n",
    "* timeInForce: string (not required) \n"
   ]
  },
  {
   "cell_type": "code",
   "execution_count": 172,
   "metadata": {},
   "outputs": [
    {
     "name": "stdout",
     "output_type": "stream",
     "text": [
      "https://api.bittrex.com/api/v1.1/market/buylimit?apikey=a495672ff7b7460196300acff578548f&market=BTC-ETH&quantity=1&rate=0.019&nonce=1572752802.420407\n",
      "{'success': True, 'message': '', 'result': {'uuid': '239e3bd6-f8e0-4943-8f57-348406a936f8'}}\n"
     ]
    }
   ],
   "source": [
    "# GET /market/buylimit \n",
    "\n",
    "# market (formated X-Y), quantity (in terms of Y), rate (in terms of X)\n",
    "def place_buylimit(market, quantity, rate, timeInForce=''): \n",
    "    PATH = '/api/v1.1/market/buylimit'\n",
    "    \n",
    "    # apikey and nonce required for signed transactions, add to dictionary \n",
    "    params = {                                             \n",
    "        'apikey':'INPUT_APIKEY',\n",
    "        'market': market, \n",
    "        'quantity': quantity, \n",
    "        'rate': rate,\n",
    "        'nonce': str(time.time())\n",
    "    }\n",
    "    \n",
    "    secret = 'INPUT_SECRET'                         # secret to be included in signature\n",
    "    url = urljoin(BASE_URL, PATH)                   # url without parameters (needed for api request)\n",
    "    signature = signAPI(url, params, secret)        # returns the signature for api call \n",
    "    \n",
    "    # request includes url, parameters as seen before, includes api signature in the request header\n",
    "    r = requests.get(url, params = params, headers={'apisign':signature})\n",
    "    if r.status_code == 200: \n",
    "        data = r.json()\n",
    "        print(data)\n",
    "    else: \n",
    "        raise BittrexException(status_code = r.status_code(), data = r.json())\n",
    "        \n",
    "# run function to see output\n",
    "place_buylimit('BTC-ETH', 1, 0.019)\n",
    "    "
   ]
  },
  {
   "cell_type": "markdown",
   "metadata": {},
   "source": [
    "### Place a sell order in a specific market \n",
    "Requires an API Key which has enabled trading \n",
    "\n",
    "Has parameters\n",
    "* market: string (requred)\n",
    "* quantity: decimal (required) \n",
    "* rate: decimal (requried) \n",
    "* timeInForce: string (not required) \n"
   ]
  },
  {
   "cell_type": "code",
   "execution_count": null,
   "metadata": {},
   "outputs": [],
   "source": [
    "# GET /market/selllimit\n",
    "\n",
    "# market (formated 'X-Y'), quantity (in terms of Y), rate (in terms of X)\n",
    "def place_selllimit(market, quantity, rate, timeInForce=''): \n",
    "    PATH = '/api/v1.1/market/selllimit'\n",
    "    \n",
    "    # apikey and nonce required for signed transactions, add to dictionary \n",
    "    params = {                                             \n",
    "        'apikey':'INPUT_APIKEY',\n",
    "        'market': market, \n",
    "        'quantity': quantity, \n",
    "        'rate': rate,\n",
    "        'nonce': str(time.time())                    # use time in current epoch as nonce\n",
    "    }\n",
    "    \n",
    "    secret = 'INPUT_SECRET'                         # secret to be included in signature\n",
    "    url = urljoin(BASE_URL, PATH)                   # url without parameters (needed for api request)\n",
    "    signature = signAPI(url, params, secret)        # returns the signature for api call \n",
    "    \n",
    "    # request includes url, parameters as seen before, includes api signature in the request header\n",
    "    r = requests.get(url, params = params, headers={'apisign':signature})\n",
    "    if r.status_code == 200: \n",
    "        data = r.json()\n",
    "        print(data)\n",
    "    else: \n",
    "        raise BittrexException(status_code = r.status_code(), data = r.json())\n",
    "        \n",
    "# run function to see output\n",
    "place_selllimit('BTC-ETH', 1, 0.019)\n"
   ]
  },
  {
   "cell_type": "markdown",
   "metadata": {},
   "source": [
    "### Place cancel of a buy or sell order\n",
    "Requires an key with transaction approval and signature using that key \n",
    "\n",
    "Has parameters:\n",
    "   * uuid: string (required): uuid of buy or sell order"
   ]
  },
  {
   "cell_type": "code",
   "execution_count": null,
   "metadata": {},
   "outputs": [],
   "source": [
    "# GET /market/cancel\n",
    "\n",
    "# uuid (string) of the order placed \n",
    "def place_cancel(uuid): \n",
    "    PATH = '/api/v1.1/market/cancel'\n",
    "    \n",
    "    # apikey and nonce required for signed transactions, add to dictionary \n",
    "    params = {                                             \n",
    "        'apikey':'INPUT_APIKEY',\n",
    "        'uuid': uuid,\n",
    "        'nonce': str(time.time())                   # use time in current epoch as nonce\n",
    "    }\n",
    "    \n",
    "    secret = 'INPUT_SECRET'                         # secret to be included in signature\n",
    "    url = urljoin(BASE_URL, PATH)                   # url without parameters (needed for api request)\n",
    "    signature = signAPI(url, params, secret)        # returns the signature for api call \n",
    "    \n",
    "    # request includes url, parameters as seen before, includes api signature in the request header\n",
    "    r = requests.get(url, params = params, headers={'apisign':signature})\n",
    "    if r.status_code == 200: \n",
    "        data = r.json()\n",
    "        print(data)\n",
    "    else: \n",
    "        raise BittrexException(status_code = r.status_code(), data = r.json())\n",
    "        \n",
    "# run function to see output\n",
    "place_cancel('uuid here')"
   ]
  },
  {
   "cell_type": "markdown",
   "metadata": {},
   "source": [
    "### Retreive your Open Orders (A specific market can be requested)\n",
    "Requires API key with market access and associated API key signature\n",
    "\n",
    "Has parameters: \n",
    " * market: string (not required)"
   ]
  },
  {
   "cell_type": "code",
   "execution_count": 184,
   "metadata": {},
   "outputs": [
    {
     "name": "stdout",
     "output_type": "stream",
     "text": [
      "{'success': True, 'message': '', 'result': []}\n"
     ]
    }
   ],
   "source": [
    "# GET /market/getopenorders\n",
    "\n",
    "def get_openorders(market = None): \n",
    "    PATH = '/api/v1.1/market/getopenorders'\n",
    "    \n",
    "    # need to check if a specifc market is input\n",
    "    if market == None:\n",
    "        params = {\n",
    "            'apikey': 'eb90f7ce6dad485c8a852fb957f48ff3',\n",
    "            'nonce' : str(time.time())\n",
    "        }\n",
    "    else:\n",
    "        params = {                                             \n",
    "        'apikey':'eb90f7ce6dad485c8a852fb957f48ff3',\n",
    "        'market': market,\n",
    "        'nonce': str(time.time())                   # use time in current epoch as nonce\n",
    "    } \n",
    "    \n",
    "    secret = '1b297b979337407bba31b00989dbdc19'     # secret to be included in signature\n",
    "    url = urljoin(BASE_URL, PATH)                   # url without parameters (needed for api request)\n",
    "    signature = signAPI(url, params, secret)        # returns the signature for api call \n",
    "    \n",
    "    # request includes url, parameters as seen before, includes api signature in the request header\n",
    "    r = requests.get(url, params = params, headers={'apisign':signature})\n",
    "    if r.status_code == 200: \n",
    "        data = r.json()\n",
    "        print(data)\n",
    "    else: \n",
    "        raise BittrexException(status_code = r.status_code(), data = r.json())\n",
    "        \n",
    "# run function to see output\n",
    "get_openorders()"
   ]
  },
  {
   "cell_type": "markdown",
   "metadata": {},
   "source": [
    "### Retrieve all balances from your account \n",
    "Requires API Key read access "
   ]
  },
  {
   "cell_type": "code",
   "execution_count": 187,
   "metadata": {},
   "outputs": [
    {
     "name": "stdout",
     "output_type": "stream",
     "text": [
      "  Currency   Balance  Available  Pending                       CryptoAddress\n",
      "0      BTC  0.187167   0.187167      0.0  1DmzDwfZX2G2yZ7Y9P13xc6JcHSE9zZ2w8\n",
      "1      BTS  0.003425   0.003425      0.0                                None\n"
     ]
    }
   ],
   "source": [
    "# GET /account/getbalances\n",
    "\n",
    "def get_openorders(): \n",
    "    PATH = '/api/v1.1/account/getbalances'\n",
    "\n",
    "    params = {\n",
    "        'apikey': 'eb90f7ce6dad485c8a852fb957f48ff3',\n",
    "        'nonce' : str(time.time())\n",
    "    }\n",
    "\n",
    "    \n",
    "    secret = '1b297b979337407bba31b00989dbdc19'     # secret to be included in signature\n",
    "    url = urljoin(BASE_URL, PATH)                   # url without parameters (needed for api request)\n",
    "    signature = signAPI(url, params, secret)        # returns the signature for api call \n",
    "    \n",
    "    # request includes url, parameters as seen before, includes api signature in the request header\n",
    "    r = requests.get(url, params = params, headers={'apisign':signature})\n",
    "    if r.status_code == 200: \n",
    "        data = r.json()\n",
    "        df = pd.DataFrame(data['result'])\n",
    "        print(df)\n",
    "    else: \n",
    "        raise BittrexException(status_code = r.status_code(), data = r.json())\n",
    "        \n",
    "# run function to see output\n",
    "get_openorders()"
   ]
  },
  {
   "cell_type": "markdown",
   "metadata": {},
   "source": [
    "### Retrieve balance of specific currency\n",
    "Requires an API Key with read access\n",
    "\n",
    "Has Parameters: \n",
    "* currency: string (required)"
   ]
  },
  {
   "cell_type": "code",
   "execution_count": 192,
   "metadata": {},
   "outputs": [
    {
     "name": "stdout",
     "output_type": "stream",
     "text": [
      "{'Currency': 'BTC', 'Balance': 0.18716665, 'Available': 0.18716665, 'Pending': 0.0, 'CryptoAddress': '1DmzDwfZX2G2yZ7Y9P13xc6JcHSE9zZ2w8'}\n"
     ]
    }
   ],
   "source": [
    "# GET /account/getbalance\n",
    "\n",
    "def get_balance(currency): \n",
    "    PATH = '/api/v1.1/account/getbalance'\n",
    "\n",
    "    params = {\n",
    "        'apikey': 'eb90f7ce6dad485c8a852fb957f48ff3',\n",
    "        'currency': currency,\n",
    "        'nonce' : str(time.time())\n",
    "    }\n",
    "\n",
    "    \n",
    "    secret = '1b297b979337407bba31b00989dbdc19'     # secret to be included in signature\n",
    "    url = urljoin(BASE_URL, PATH)                   # url without parameters (needed for api request)\n",
    "    signature = signAPI(url, params, secret)        # returns the signature for api call \n",
    "    \n",
    "    # request includes url, parameters as seen before, includes api signature in the request header\n",
    "    r = requests.get(url, params = params, headers={'apisign':signature})\n",
    "    if r.status_code == 200: \n",
    "        data = r.json()\n",
    "        print(data['result'])\n",
    "    else: \n",
    "        raise BittrexException(status_code = r.status_code(), data = r.json())\n",
    "        \n",
    "# run function to see output\n",
    "get_balance(\"BTC\")"
   ]
  },
  {
   "cell_type": "markdown",
   "metadata": {},
   "source": [
    "### Retrieve or Generate an address for specific currency\n",
    "If an address doesn't exist, the call will fail and return ADDRESS_GENERATING until one is available \n",
    "\n",
    "Requires and APIKey with Read access \n",
    "\n",
    "Has parameters: \n",
    "* currency: string (required) \n"
   ]
  },
  {
   "cell_type": "code",
   "execution_count": 195,
   "metadata": {},
   "outputs": [
    {
     "name": "stdout",
     "output_type": "stream",
     "text": [
      "{'Currency': 'LTC', 'Address': 'LSBHPMqsJPV87VgqaAd2XS7D8RQwaDcu6u'}\n"
     ]
    }
   ],
   "source": [
    "# GET /account/getdepositaddress\n",
    "\n",
    "def get_depositaddress(currency): \n",
    "    PATH = '/api/v1.1/account/getdepositaddress'\n",
    "\n",
    "    params = {\n",
    "        'apikey': 'eb90f7ce6dad485c8a852fb957f48ff3',\n",
    "        'currency': currency,\n",
    "        'nonce' : str(time.time())\n",
    "    }\n",
    "\n",
    "    \n",
    "    secret = '1b297b979337407bba31b00989dbdc19'     # secret to be included in signature\n",
    "    url = urljoin(BASE_URL, PATH)                   # url without parameters (needed for api request)\n",
    "    signature = signAPI(url, params, secret)        # returns the signature for api call \n",
    "    \n",
    "    # request includes url, parameters as seen before, includes api signature in the request header\n",
    "    r = requests.get(url, params = params, headers={'apisign':signature})\n",
    "    if r.status_code == 200: \n",
    "        data = r.json()\n",
    "        print(data['result'])\n",
    "    else: \n",
    "        raise BittrexException(status_code = r.status_code(), data = r.json())\n",
    "        \n",
    "# run function to see output\n",
    "get_depositaddress(\"BTC\")"
   ]
  },
  {
   "cell_type": "markdown",
   "metadata": {},
   "source": [
    "### There's a withdraw api call.... not gonna mess with that for now\n"
   ]
  },
  {
   "cell_type": "markdown",
   "metadata": {},
   "source": [
    "### Retrieve a single order using uuid\n",
    "Requires an API Key with Read access\n",
    "\n",
    "Has parameters:\n",
    "   * uuid: string (required)"
   ]
  },
  {
   "cell_type": "code",
   "execution_count": null,
   "metadata": {},
   "outputs": [],
   "source": [
    "# GET /account/getorder\n",
    "\n",
    "def get_order(uuid): \n",
    "    PATH = '/api/v1.1/account/getorder'\n",
    "\n",
    "    params = {\n",
    "        'apikey': 'eb90f7ce6dad485c8a852fb957f48ff3',\n",
    "        'uuid': uuid,\n",
    "        'nonce' : str(time.time())\n",
    "    }\n",
    "\n",
    "    \n",
    "    secret = '1b297b979337407bba31b00989dbdc19'     # secret to be included in signature\n",
    "    url = urljoin(BASE_URL, PATH)                   # url without parameters (needed for api request)\n",
    "    signature = signAPI(url, params, secret)        # returns the signature for api call \n",
    "    \n",
    "    # request includes url, parameters as seen before, includes api signature in the request header\n",
    "    r = requests.get(url, params = params, headers={'apisign':signature})\n",
    "    if r.status_code == 200: \n",
    "        data = r.json()\n",
    "        print(data['result'])\n",
    "    else: \n",
    "        raise BittrexException(status_code = r.status_code(), data = r.json())\n",
    "        \n",
    "# run function to see output\n",
    "get_order(\"uuid here\")"
   ]
  },
  {
   "cell_type": "markdown",
   "metadata": {},
   "source": [
    "### Retrieve order history \n",
    "Requires an API Key with Read access\n",
    "\n",
    "Has Parameters: \n",
    "* market: string (not required)"
   ]
  },
  {
   "cell_type": "code",
   "execution_count": 203,
   "metadata": {},
   "outputs": [
    {
     "name": "stdout",
     "output_type": "stream",
     "text": [
      "   success message                                             result\n",
      "0     True          {'OrderUuid': 'f5dd374b-0b79-4f62-99ca-47faf6d...\n"
     ]
    }
   ],
   "source": [
    "# GET /account/getorderhistory\n",
    "\n",
    "def get_orderhistory(market = None): \n",
    "    PATH = '/api/v1.1/account/getorderhistory'\n",
    "    \n",
    "    # need to check if a specifc market is input\n",
    "    if market == None:\n",
    "        params = {\n",
    "            'apikey': 'eb90f7ce6dad485c8a852fb957f48ff3',\n",
    "            'nonce' : str(time.time())\n",
    "        }\n",
    "    else:\n",
    "        params = {                                             \n",
    "        'apikey':'eb90f7ce6dad485c8a852fb957f48ff3',\n",
    "        'market': market,\n",
    "        'nonce': str(time.time())                   # use time in current epoch as nonce\n",
    "    } \n",
    "    \n",
    "    secret = '1b297b979337407bba31b00989dbdc19'     # secret to be included in signature\n",
    "    url = urljoin(BASE_URL, PATH)                   # url without parameters (needed for api request)\n",
    "    signature = signAPI(url, params, secret)        # returns the signature for api call \n",
    "    \n",
    "    # request includes url, parameters as seen before, includes api signature in the request header\n",
    "    r = requests.get(url, params = params, headers={'apisign':signature})\n",
    "    if r.status_code == 200: \n",
    "        data = r.json()\n",
    "        df = pd.DataFrame(data)\n",
    "        print(df)\n",
    "    else: \n",
    "        raise BittrexException(status_code = r.status_code(), data = r.json())\n",
    "        \n",
    "# run function to see output\n",
    "get_orderhistory(\"btc-eth\")"
   ]
  },
  {
   "cell_type": "markdown",
   "metadata": {},
   "source": [
    "### Retrieve withdrawal history\n",
    "Requires an API Key with Read access \n",
    "\n",
    "Has parameters: \n",
    "* currency: string (not required) "
   ]
  },
  {
   "cell_type": "code",
   "execution_count": 214,
   "metadata": {},
   "outputs": [
    {
     "name": "stdout",
     "output_type": "stream",
     "text": [
      "Empty DataFrame\n",
      "Columns: []\n",
      "Index: []\n"
     ]
    }
   ],
   "source": [
    "# GET /account/getwithdrawalhistory\n",
    "\n",
    "def get_withdrawalhistory(currency = None): \n",
    "    PATH = '/api/v1.1/account/getwithdrawalhistory'\n",
    "    \n",
    "    # need to check if a specifc market is input\n",
    "    if currency == None:\n",
    "        params = {\n",
    "            'apikey': 'eb90f7ce6dad485c8a852fb957f48ff3',\n",
    "            'nonce' : str(time.time())\n",
    "        }\n",
    "    else:\n",
    "        params = {                                             \n",
    "        'apikey':'eb90f7ce6dad485c8a852fb957f48ff3',\n",
    "        'currency': currency,\n",
    "        'nonce': str(time.time())                   # use time in current epoch as nonce\n",
    "    } \n",
    "    \n",
    "    secret = '1b297b979337407bba31b00989dbdc19'     # secret to be included in signature\n",
    "    url = urljoin(BASE_URL, PATH)                   # url without parameters (needed for api request)\n",
    "    signature = signAPI(url, params, secret)        # returns the signature for api call \n",
    "    \n",
    "    # request includes url, parameters as seen before, includes api signature in the request header\n",
    "    r = requests.get(url, params = params, headers={'apisign':signature})\n",
    "    if r.status_code == 200: \n",
    "        data = r.json()\n",
    "        df = pd.DataFrame(data['result'])\n",
    "        print(df)\n",
    "    else: \n",
    "        raise BittrexException(status_code = r.status_code(), data = r.json())\n",
    "        \n",
    "# run function to see output\n",
    "get_withdrawalhistory('BTC')"
   ]
  },
  {
   "cell_type": "markdown",
   "metadata": {},
   "source": [
    "### Get Deposit History \n",
    "Requires API Key with Reaad access \n",
    "\n",
    "Has parameters: \n",
    "* currency: string (not required) "
   ]
  },
  {
   "cell_type": "code",
   "execution_count": 212,
   "metadata": {},
   "outputs": [
    {
     "name": "stdout",
     "output_type": "stream",
     "text": [
      "         Id    Amount Currency  Confirmations            LastUpdated  \\\n",
      "0  97834192  0.197142      BTC              2  2019-08-28T01:50:44.8   \n",
      "\n",
      "                                                TxId  \\\n",
      "0  b547f519d71bba3ec0bbf56ae14efa06c3683d12243032...   \n",
      "\n",
      "                        CryptoAddress  \n",
      "0  1DmzDwfZX2G2yZ7Y9P13xc6JcHSE9zZ2w8  \n"
     ]
    }
   ],
   "source": [
    "# GET /account/getdeposithistory\n",
    "\n",
    "def get_deposithistory(currency = None): \n",
    "    PATH = '/api/v1.1/account/getdeposithistory'\n",
    "    \n",
    "    # need to check if a specifc market is input\n",
    "    if currency == None:\n",
    "        params = {\n",
    "            'apikey': 'eb90f7ce6dad485c8a852fb957f48ff3',\n",
    "            'nonce' : str(time.time())\n",
    "        }\n",
    "    else:\n",
    "        params = {                                             \n",
    "        'apikey':'eb90f7ce6dad485c8a852fb957f48ff3',\n",
    "        'currency': currency,\n",
    "        'nonce': str(time.time())                   # use time in current epoch as nonce\n",
    "    } \n",
    "    \n",
    "    secret = '1b297b979337407bba31b00989dbdc19'     # secret to be included in signature\n",
    "    url = urljoin(BASE_URL, PATH)                   # url without parameters (needed for api request)\n",
    "    signature = signAPI(url, params, secret)        # returns the signature for api call \n",
    "    \n",
    "    # request includes url, parameters as seen before, includes api signature in the request header\n",
    "    r = requests.get(url, params = params, headers={'apisign':signature})\n",
    "    if r.status_code == 200: \n",
    "        data = r.json()\n",
    "        df = pd.DataFrame(data['result'])\n",
    "        print(df)\n",
    "    else: \n",
    "        raise BittrexException(status_code = r.status_code(), data = r.json())\n",
    "        \n",
    "# run function to see output\n",
    "get_deposithistory()"
   ]
  },
  {
   "cell_type": "code",
   "execution_count": null,
   "metadata": {},
   "outputs": [],
   "source": []
  }
 ],
 "metadata": {
  "kernelspec": {
   "display_name": "Python 3",
   "language": "python",
   "name": "python3"
  },
  "language_info": {
   "codemirror_mode": {
    "name": "ipython",
    "version": 3
   },
   "file_extension": ".py",
   "mimetype": "text/x-python",
   "name": "python",
   "nbconvert_exporter": "python",
   "pygments_lexer": "ipython3",
   "version": "3.7.2"
  }
 },
 "nbformat": 4,
 "nbformat_minor": 2
}
